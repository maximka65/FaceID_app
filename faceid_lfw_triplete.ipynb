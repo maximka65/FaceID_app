{
 "cells": [
  {
   "cell_type": "markdown",
   "id": "7ecc857a",
   "metadata": {
    "id": "7ecc857a"
   },
   "source": [
    "# Обучение сиамской неронной сети с triplete loss для задачи распознования лиц. Few-shot learning"
   ]
  },
  {
   "cell_type": "markdown",
   "id": "ZCrRjrQeH2OM",
   "metadata": {
    "id": "ZCrRjrQeH2OM"
   },
   "source": [
    "### Файлы для anchor и positive класса были собранны на локальной машине, в качестве класса negative выступает LFW датасет, сюда загружен готовый датасет\n",
    "\n",
    "Ссылка на LFW: http://vis-www.cs.umass.edu/lfw/#download:~:text=All%20images%20as%20gzipped%20tar%20file \n"
   ]
  },
  {
   "cell_type": "code",
   "execution_count": 1,
   "id": "hU5QBtCdJ46s",
   "metadata": {
    "colab": {
     "base_uri": "https://localhost:8080/"
    },
    "executionInfo": {
     "elapsed": 286187,
     "status": "ok",
     "timestamp": 1664203949030,
     "user": {
      "displayName": "Maxim Cucer",
      "userId": "01403634459015357744"
     },
     "user_tz": -180
    },
    "id": "hU5QBtCdJ46s",
    "outputId": "6899a93b-e4e9-4de6-8869-addad0d3ff31"
   },
   "outputs": [
    {
     "name": "stdout",
     "output_type": "stream",
     "text": [
      "Mounted at /content/drive\n"
     ]
    }
   ],
   "source": [
    "from google.colab import drive\n",
    "drive.mount('/content/drive')"
   ]
  },
  {
   "cell_type": "code",
   "execution_count": 1,
   "id": "dbf7a591",
   "metadata": {
    "executionInfo": {
     "elapsed": 833,
     "status": "ok",
     "timestamp": 1664203994654,
     "user": {
      "displayName": "Maxim Cucer",
      "userId": "01403634459015357744"
     },
     "user_tz": -180
    },
    "id": "dbf7a591"
   },
   "outputs": [],
   "source": [
    "import cv2 \n",
    "import os\n",
    "import numpy as np\n",
    "import random\n",
    "import matplotlib.pyplot as plt"
   ]
  },
  {
   "cell_type": "code",
   "execution_count": 2,
   "id": "f1120905",
   "metadata": {
    "executionInfo": {
     "elapsed": 2924,
     "status": "ok",
     "timestamp": 1664203998914,
     "user": {
      "displayName": "Maxim Cucer",
      "userId": "01403634459015357744"
     },
     "user_tz": -180
    },
    "id": "f1120905"
   },
   "outputs": [
    {
     "name": "stderr",
     "output_type": "stream",
     "text": [
      "2022-12-14 19:04:54.301325: I tensorflow/core/platform/cpu_feature_guard.cc:193] This TensorFlow binary is optimized with oneAPI Deep Neural Network Library (oneDNN) to use the following CPU instructions in performance-critical operations:  AVX2 FMA\n",
      "To enable them in other operations, rebuild TensorFlow with the appropriate compiler flags.\n"
     ]
    }
   ],
   "source": [
    "from tensorflow.keras.models import Model\n",
    "from tensorflow.keras.layers import Layer, Conv2D, Dense, MaxPooling2D, Input, Flatten\n",
    "import tensorflow as tf"
   ]
  },
  {
   "cell_type": "code",
   "execution_count": 12,
   "id": "2688c1c3",
   "metadata": {
    "executionInfo": {
     "elapsed": 5,
     "status": "ok",
     "timestamp": 1664203998915,
     "user": {
      "displayName": "Maxim Cucer",
      "userId": "01403634459015357744"
     },
     "user_tz": -180
    },
    "id": "2688c1c3"
   },
   "outputs": [],
   "source": [
    "PATH_colab = os.path.join('/content','drive','MyDrive',\"Colab Notebooks\",'CV','6_Embeddings','faceid')\n",
    "PATH = os.path.join('./')\n",
    "POS_PATH = os.path.join(PATH, 'data', 'positive')\n",
    "NEG_PATH = os.path.join(PATH, 'data', 'negative')\n",
    "ANC_PATH = os.path.join(PATH, 'data', 'anchor')"
   ]
  },
  {
   "cell_type": "code",
   "execution_count": 5,
   "id": "70030c25",
   "metadata": {
    "executionInfo": {
     "elapsed": 396,
     "status": "ok",
     "timestamp": 1664204000968,
     "user": {
      "displayName": "Maxim Cucer",
      "userId": "01403634459015357744"
     },
     "user_tz": -180
    },
    "id": "70030c25"
   },
   "outputs": [],
   "source": [
    "if 0:\n",
    "    !cd {PATH} && unzip data.zip"
   ]
  },
  {
   "cell_type": "code",
   "execution_count": 33,
   "id": "MJ1fKJDYIwZD",
   "metadata": {
    "executionInfo": {
     "elapsed": 13273,
     "status": "ok",
     "timestamp": 1664204021232,
     "user": {
      "displayName": "Maxim Cucer",
      "userId": "01403634459015357744"
     },
     "user_tz": -180
    },
    "id": "MJ1fKJDYIwZD"
   },
   "outputs": [],
   "source": [
    "#загрузим изображения\n",
    "anchor = tf.data.Dataset.list_files('./data/anchor/*.jpg').take(500)\n",
    "positive = tf.data.Dataset.list_files('./data/positive/*.jpg').take(500)\n",
    "negative = tf.data.Dataset.list_files('./data/negative/*.jpg').take(500)\n",
    "\n",
    "# '/content/drive/MyDrive/Colab Notebooks/CV/6_Embeddings/faceid/data/anchor/*.jpg'"
   ]
  },
  {
   "cell_type": "code",
   "execution_count": 34,
   "id": "85c8c76d",
   "metadata": {
    "executionInfo": {
     "elapsed": 7,
     "status": "ok",
     "timestamp": 1664204021233,
     "user": {
      "displayName": "Maxim Cucer",
      "userId": "01403634459015357744"
     },
     "user_tz": -180
    },
    "id": "85c8c76d"
   },
   "outputs": [],
   "source": [
    "#собираем tf.Dataset в каждой строчке которого триплеты anchor positive label и anchor negative 0\n",
    "positives = tf.data.Dataset.zip(\\\n",
    "    (anchor, positive, tf.data.Dataset.from_tensor_slices(tf.ones(len(anchor)))))\n",
    "negatives = tf.data.Dataset.zip(\\\n",
    "    (anchor, negative, tf.data.Dataset.from_tensor_slices(tf.zeros(len(anchor)))))\n",
    "data = positives.concatenate(negatives)"
   ]
  },
  {
   "cell_type": "code",
   "execution_count": 35,
   "id": "Acg_QYexNAeb",
   "metadata": {
    "executionInfo": {
     "elapsed": 5,
     "status": "ok",
     "timestamp": 1664204021233,
     "user": {
      "displayName": "Maxim Cucer",
      "userId": "01403634459015357744"
     },
     "user_tz": -180
    },
    "id": "Acg_QYexNAeb"
   },
   "outputs": [],
   "source": [
    "def preprocess(path):\n",
    "    byte_img = tf.io.read_file(path)\n",
    "    img = tf.io.decode_jpeg(byte_img)\n",
    "    img = tf.image.resize(img, (100,100))\n",
    "    img = img / 255.0\n",
    "    return img"
   ]
  },
  {
   "cell_type": "code",
   "execution_count": 36,
   "id": "483f65ee",
   "metadata": {
    "executionInfo": {
     "elapsed": 6,
     "status": "ok",
     "timestamp": 1664204021234,
     "user": {
      "displayName": "Maxim Cucer",
      "userId": "01403634459015357744"
     },
     "user_tz": -180
    },
    "id": "483f65ee"
   },
   "outputs": [],
   "source": [
    "def preprocess_twin(input_img, validation_img, label):\n",
    "    return(preprocess(input_img), preprocess(validation_img), label)"
   ]
  },
  {
   "cell_type": "code",
   "execution_count": 37,
   "id": "54551770",
   "metadata": {
    "executionInfo": {
     "elapsed": 5,
     "status": "ok",
     "timestamp": 1664204021234,
     "user": {
      "displayName": "Maxim Cucer",
      "userId": "01403634459015357744"
     },
     "user_tz": -180
    },
    "id": "54551770"
   },
   "outputs": [],
   "source": [
    "data = data.map(preprocess_twin)\n",
    "data = data.cache()\n",
    "data = data.shuffle(buffer_size=1024)"
   ]
  },
  {
   "cell_type": "code",
   "execution_count": 38,
   "id": "58def329",
   "metadata": {
    "colab": {
     "base_uri": "https://localhost:8080/",
     "height": 286
    },
    "executionInfo": {
     "elapsed": 123253,
     "status": "ok",
     "timestamp": 1664204144482,
     "user": {
      "displayName": "Maxim Cucer",
      "userId": "01403634459015357744"
     },
     "user_tz": -180
    },
    "id": "58def329",
    "outputId": "ae3d17bd-0917-49dc-8e77-c437fa7a62ec"
   },
   "outputs": [
    {
     "data": {
      "text/plain": [
       "<matplotlib.image.AxesImage at 0x7f932cacc9d0>"
      ]
     },
     "execution_count": 38,
     "metadata": {},
     "output_type": "execute_result"
    },
    {
     "data": {
      "image/png": "[encoded data removed]",
      "text/plain": [
       "<Figure size 432x288 with 1 Axes>"
      ]
     },
     "metadata": {
      "needs_background": "light"
     },
     "output_type": "display_data"
    }
   ],
   "source": [
    "plt.imshow(list(data.as_numpy_iterator())[0][1])"
   ]
  },
  {
   "cell_type": "code",
   "execution_count": 48,
   "id": "4b9b59df",
   "metadata": {},
   "outputs": [
    {
     "data": {
      "text/plain": [
       "342"
      ]
     },
     "execution_count": 48,
     "metadata": {},
     "output_type": "execute_result"
    }
   ],
   "source": [
    "len(list(data.as_numpy_iterator()))"
   ]
  },
  {
   "cell_type": "code",
   "execution_count": 12,
   "id": "5e3d04e4",
   "metadata": {
    "executionInfo": {
     "elapsed": 37,
     "status": "ok",
     "timestamp": 1664204144487,
     "user": {
      "displayName": "Maxim Cucer",
      "userId": "01403634459015357744"
     },
     "user_tz": -180
    },
    "id": "5e3d04e4"
   },
   "outputs": [],
   "source": [
    "train_data = data.take(round(len(data)*.7))\n",
    "train_data = train_data.batch(16)\n",
    "train_data = train_data.prefetch(8)"
   ]
  },
  {
   "cell_type": "code",
   "execution_count": 13,
   "id": "014f8893",
   "metadata": {
    "executionInfo": {
     "elapsed": 36,
     "status": "ok",
     "timestamp": 1664204144487,
     "user": {
      "displayName": "Maxim Cucer",
      "userId": "01403634459015357744"
     },
     "user_tz": -180
    },
    "id": "014f8893"
   },
   "outputs": [],
   "source": [
    "test_data = data.take(round(len(data)*.3))\n",
    "test_data = test_data.batch(16)\n",
    "test_data = test_data.prefetch(8)"
   ]
  },
  {
   "cell_type": "markdown",
   "id": "68e0a264",
   "metadata": {
    "id": "68e0a264"
   },
   "source": [
    "## построение модели"
   ]
  },
  {
   "cell_type": "markdown",
   "id": "a4259d32",
   "metadata": {
    "id": "a4259d32"
   },
   "source": [
    "https://www.cs.cmu.edu/~rsalakhu/papers/oneshot1.pdf\n",
    "статья с моделью"
   ]
  },
  {
   "cell_type": "code",
   "execution_count": 14,
   "id": "9e8f7c98",
   "metadata": {
    "executionInfo": {
     "elapsed": 35,
     "status": "ok",
     "timestamp": 1664204144487,
     "user": {
      "displayName": "Maxim Cucer",
      "userId": "01403634459015357744"
     },
     "user_tz": -180
    },
    "id": "9e8f7c98"
   },
   "outputs": [],
   "source": [
    "# часть стандартнаой сверточной сети которая создаст feature map и отдаст его\n",
    "# в виде 4096-мерного вектора\n",
    "def create_embedding():\n",
    "    inp = Input(shape=(100,100,3), name='inp_img')\n",
    "    \n",
    "    c1 = Conv2D(64, (10,10), activation='relu')(inp)\n",
    "    m_p1 = MaxPooling2D(64, (2,2), padding='same')(c1)\n",
    "    \n",
    "    c2 = Conv2D(128, (7,7), activation='relu')(m_p1)\n",
    "    m_p2 = MaxPooling2D(64, (2,2), padding='same')(c2)\n",
    "    \n",
    "    c3 = Conv2D(128, (4,4), activation='relu')(m_p2)\n",
    "    m_p3 = MaxPooling2D(64, (2,2), padding='same')(c3)\n",
    "    \n",
    "    c4 = Conv2D(256, (4,4), activation='relu')(m_p3)\n",
    "    \n",
    "    flatten = Flatten()(c4)\n",
    "    \n",
    "    fc1 = Dense(4096, activation='sigmoid')(flatten)\n",
    "    \n",
    "#     fc2 = Dense(1, activation='sigmoid')(fc1)\n",
    "    \n",
    "    return Model(inputs=[inp], outputs=[fc1], name='embedding')"
   ]
  },
  {
   "cell_type": "code",
   "execution_count": 15,
   "id": "18baafa5",
   "metadata": {
    "colab": {
     "base_uri": "https://localhost:8080/"
    },
    "executionInfo": {
     "elapsed": 954,
     "status": "ok",
     "timestamp": 1664204145406,
     "user": {
      "displayName": "Maxim Cucer",
      "userId": "01403634459015357744"
     },
     "user_tz": -180
    },
    "id": "18baafa5",
    "outputId": "d03aa8d0-7c45-49d3-94c4-e81d1f10cf0b"
   },
   "outputs": [
    {
     "name": "stdout",
     "output_type": "stream",
     "text": [
      "Model: \"embedding\"\n",
      "_________________________________________________________________\n",
      " Layer (type)                Output Shape              Param #   \n",
      "=================================================================\n",
      " inp_img (InputLayer)        [(None, 100, 100, 3)]     0         \n",
      "                                                                 \n",
      " conv2d (Conv2D)             (None, 91, 91, 64)        19264     \n",
      "                                                                 \n",
      " max_pooling2d (MaxPooling2D  (None, 46, 46, 64)       0         \n",
      " )                                                               \n",
      "                                                                 \n",
      " conv2d_1 (Conv2D)           (None, 40, 40, 128)       401536    \n",
      "                                                                 \n",
      " max_pooling2d_1 (MaxPooling  (None, 20, 20, 128)      0         \n",
      " 2D)                                                             \n",
      "                                                                 \n",
      " conv2d_2 (Conv2D)           (None, 17, 17, 128)       262272    \n",
      "                                                                 \n",
      " max_pooling2d_2 (MaxPooling  (None, 9, 9, 128)        0         \n",
      " 2D)                                                             \n",
      "                                                                 \n",
      " conv2d_3 (Conv2D)           (None, 6, 6, 256)         524544    \n",
      "                                                                 \n",
      " flatten (Flatten)           (None, 9216)              0         \n",
      "                                                                 \n",
      " dense (Dense)               (None, 4096)              37752832  \n",
      "                                                                 \n",
      "=================================================================\n",
      "Total params: 38,960,448\n",
      "Trainable params: 38,960,448\n",
      "Non-trainable params: 0\n",
      "_________________________________________________________________\n"
     ]
    }
   ],
   "source": [
    "emb = create_embedding()\n",
    "emb.summary()"
   ]
  },
  {
   "cell_type": "code",
   "execution_count": 3,
   "id": "4b38a6f6",
   "metadata": {
    "executionInfo": {
     "elapsed": 37,
     "status": "ok",
     "timestamp": 1664204145407,
     "user": {
      "displayName": "Maxim Cucer",
      "userId": "01403634459015357744"
     },
     "user_tz": -180
    },
    "id": "4b38a6f6"
   },
   "outputs": [],
   "source": [
    "#Готовим слоий растояния между эмбедингами для сиамской нейросети, который принимает сразу два вектора для \n",
    "from scipy.spatial.distance import cosine\n",
    "class L1Norm(Layer):\n",
    "    def __init__(self, **kwargs):\n",
    "        super().__init__()\n",
    "        \n",
    "    def call(self, input_embedding, validation_embedding):\n",
    "        return tf.math.abs(input_embedding - validation_embedding)\n",
    "\n",
    "class CosNorm(Layer):\n",
    "    def __init__(self, **kwargs):\n",
    "        super().__init__()\n",
    "        \n",
    "    def call(self, input_embedding, validation_embedding):\n",
    "        normalize_a = tf.nn.l2_normalize(input_embedding,0)        \n",
    "        normalize_b = tf.nn.l2_normalize(validation_embedding,0)\n",
    "        cos_similarity=tf.reduce_sum(tf.multiply(normalize_a,normalize_b))\n",
    "\n",
    "        return cos_similarity"
   ]
  },
  {
   "cell_type": "code",
   "execution_count": 4,
   "id": "7654ed25",
   "metadata": {
    "executionInfo": {
     "elapsed": 37,
     "status": "ok",
     "timestamp": 1664204145408,
     "user": {
      "displayName": "Maxim Cucer",
      "userId": "01403634459015357744"
     },
     "user_tz": -180
    },
    "id": "7654ed25"
   },
   "outputs": [],
   "source": [
    "# Финальная сиамская модель с двумя входами и одним выходом классификация похожести\n",
    "# по растоянию между эмбедингами\n",
    "def create_siamese_model():\n",
    "    anc_inp = Input(shape=(100,100,3), name='anchor_img')\n",
    "    val_inp = Input(shape=(100,100,3), name='validation_img')\n",
    "    \n",
    "    siam_layer = L1Norm()\n",
    "    siam_layer._name = 'distance'\n",
    "    distances = siam_layer(emb(anc_inp), emb(val_inp))\n",
    "    \n",
    "    clf = Dense(1, activation='sigmoid')(distances)\n",
    "    \n",
    "    return Model(inputs=[anc_inp, val_inp], outputs=clf, name='SiameseNet')"
   ]
  },
  {
   "cell_type": "code",
   "execution_count": 18,
   "id": "1d2eca38",
   "metadata": {
    "executionInfo": {
     "elapsed": 37,
     "status": "ok",
     "timestamp": 1664204145408,
     "user": {
      "displayName": "Maxim Cucer",
      "userId": "01403634459015357744"
     },
     "user_tz": -180
    },
    "id": "1d2eca38"
   },
   "outputs": [],
   "source": [
    "model = create_siamese_model()"
   ]
  },
  {
   "cell_type": "code",
   "execution_count": 19,
   "id": "35b78e70",
   "metadata": {
    "executionInfo": {
     "elapsed": 38,
     "status": "ok",
     "timestamp": 1664204145409,
     "user": {
      "displayName": "Maxim Cucer",
      "userId": "01403634459015357744"
     },
     "user_tz": -180
    },
    "id": "35b78e70"
   },
   "outputs": [],
   "source": [
    "binary_cross_loss = tf.losses.BinaryCrossentropy()\n",
    "optimizer = tf.keras.optimizers.Adam(0.0001)"
   ]
  },
  {
   "cell_type": "code",
   "execution_count": 20,
   "id": "2ca96566",
   "metadata": {
    "executionInfo": {
     "elapsed": 37,
     "status": "ok",
     "timestamp": 1664204145409,
     "user": {
      "displayName": "Maxim Cucer",
      "userId": "01403634459015357744"
     },
     "user_tz": -180
    },
    "id": "2ca96566"
   },
   "outputs": [],
   "source": [
    "# собираем стату по обучению модели\n",
    "ckpt_dir = './training_checkpoints'\n",
    "ckpt_prefix = os.path.join(ckpt_dir, 'ckpt')\n",
    "checkpoint = tf.train.Checkpoint(optimizer=optimizer, siamese_model=model)"
   ]
  },
  {
   "cell_type": "markdown",
   "id": "c8b476a0",
   "metadata": {
    "id": "c8b476a0"
   },
   "source": [
    "## тренировка сети"
   ]
  },
  {
   "cell_type": "code",
   "execution_count": 21,
   "id": "3e6823ff",
   "metadata": {
    "executionInfo": {
     "elapsed": 38,
     "status": "ok",
     "timestamp": 1664204145410,
     "user": {
      "displayName": "Maxim Cucer",
      "userId": "01403634459015357744"
     },
     "user_tz": -180
    },
    "id": "3e6823ff"
   },
   "outputs": [],
   "source": [
    "@tf.function\n",
    "def train_step(batch):\n",
    "    \n",
    "#     tf.GradientTape сохраняет проделанные сетью операции для \n",
    "#     дальнейщего дифференциирования\n",
    "    with tf.GradientTape() as tape:\n",
    "        X = batch[:2]\n",
    "        y = batch[2]\n",
    "        \n",
    "        pred = model(X, training=True)\n",
    "        \n",
    "        loss = binary_cross_loss(y, pred) \n",
    "    print(loss)\n",
    "    \n",
    "    grad = tape.gradient(loss, model.trainable_variables)\n",
    "    optimizer.apply_gradients(zip(grad, model.trainable_variables))\n",
    "    \n",
    "    return loss"
   ]
  },
  {
   "cell_type": "code",
   "execution_count": 22,
   "id": "c268946b",
   "metadata": {
    "executionInfo": {
     "elapsed": 39,
     "status": "ok",
     "timestamp": 1664204145411,
     "user": {
      "displayName": "Maxim Cucer",
      "userId": "01403634459015357744"
     },
     "user_tz": -180
    },
    "id": "c268946b"
   },
   "outputs": [],
   "source": [
    "def train(data, epochs):\n",
    "    \n",
    "#     цикл по эпохам\n",
    "    for epoch in range(1, epochs+1):\n",
    "        print('\\n Epoch {}/{}'.format(epoch, epochs))\n",
    "        progbar = tf.keras.utils.Progbar(len(data))\n",
    "        \n",
    "#     цикл по батчам\n",
    "        for idx, batch in enumerate(data):\n",
    "            loss = train_step(batch)\n",
    "            pred = model.predict(batch[:2])\n",
    "            progbar.update(idx+1)\n",
    "        print(loss.numpy())\n",
    "#     сохраняем чекпоинты\n",
    "        if epoch % 10 == 0:\n",
    "            checkpoint.save(file_prefix=ckpt_prefix)"
   ]
  },
  {
   "cell_type": "code",
   "execution_count": 23,
   "id": "a90340bf",
   "metadata": {
    "colab": {
     "base_uri": "https://localhost:8080/"
    },
    "executionInfo": {
     "elapsed": 264701,
     "status": "ok",
     "timestamp": 1664204410073,
     "user": {
      "displayName": "Maxim Cucer",
      "userId": "01403634459015357744"
     },
     "user_tz": -180
    },
    "id": "a90340bf",
    "outputId": "b4810637-66dc-43fb-838d-e46910e53a73"
   },
   "outputs": [
    {
     "name": "stdout",
     "output_type": "stream",
     "text": [
      "\n",
      " Epoch 1/50\n",
      "Tensor(\"binary_crossentropy/weighted_loss/value:0\", shape=(), dtype=float32)\n",
      "Tensor(\"binary_crossentropy/weighted_loss/value:0\", shape=(), dtype=float32)\n",
      "14/15 [===========================>..] - ETA: 0sTensor(\"binary_crossentropy/weighted_loss/value:0\", shape=(), dtype=float32)\n",
      "15/15 [==============================] - 18s 347ms/step\n",
      "0.37527886\n",
      "\n",
      " Epoch 2/50\n",
      "15/15 [==============================] - 4s 295ms/step\n",
      "0.14702949\n",
      "\n",
      " Epoch 3/50\n",
      "15/15 [==============================] - 4s 295ms/step\n",
      "0.18130118\n",
      "\n",
      " Epoch 4/50\n",
      "15/15 [==============================] - 4s 286ms/step\n",
      "0.10578963\n",
      "\n",
      " Epoch 5/50\n",
      "15/15 [==============================] - 5s 311ms/step\n",
      "0.035443194\n",
      "\n",
      " Epoch 6/50\n",
      "15/15 [==============================] - 5s 309ms/step\n",
      "0.02521119\n",
      "\n",
      " Epoch 7/50\n",
      "15/15 [==============================] - 5s 304ms/step\n",
      "0.01550211\n",
      "\n",
      " Epoch 8/50\n",
      "15/15 [==============================] - 4s 284ms/step\n",
      "0.037259564\n",
      "\n",
      " Epoch 9/50\n",
      "15/15 [==============================] - 4s 300ms/step\n",
      "0.04896203\n",
      "\n",
      " Epoch 10/50\n",
      "15/15 [==============================] - 5s 316ms/step\n",
      "0.02936446\n",
      "\n",
      " Epoch 11/50\n",
      "15/15 [==============================] - 5s 300ms/step\n",
      "0.0037946366\n",
      "\n",
      " Epoch 12/50\n",
      "15/15 [==============================] - 4s 287ms/step\n",
      "0.0047683287\n",
      "\n",
      " Epoch 13/50\n",
      "15/15 [==============================] - 4s 287ms/step\n",
      "0.001398703\n",
      "\n",
      " Epoch 14/50\n",
      "15/15 [==============================] - 4s 277ms/step\n",
      "0.00071062654\n",
      "\n",
      " Epoch 15/50\n",
      "15/15 [==============================] - 5s 318ms/step\n",
      "0.0006360296\n",
      "\n",
      " Epoch 16/50\n",
      "15/15 [==============================] - 4s 295ms/step\n",
      "0.0034630417\n",
      "\n",
      " Epoch 17/50\n",
      "15/15 [==============================] - 5s 295ms/step\n",
      "0.004539133\n",
      "\n",
      " Epoch 18/50\n",
      "15/15 [==============================] - 4s 301ms/step\n",
      "0.014533329\n",
      "\n",
      " Epoch 19/50\n",
      "15/15 [==============================] - 4s 280ms/step\n",
      "0.0022961535\n",
      "\n",
      " Epoch 20/50\n",
      "15/15 [==============================] - 5s 309ms/step\n",
      "0.00974155\n",
      "\n",
      " Epoch 21/50\n",
      "15/15 [==============================] - 4s 273ms/step\n",
      "0.0007096512\n",
      "\n",
      " Epoch 22/50\n",
      "15/15 [==============================] - 5s 328ms/step\n",
      "0.0017585071\n",
      "\n",
      " Epoch 23/50\n",
      "15/15 [==============================] - 5s 296ms/step\n",
      "0.0010726899\n",
      "\n",
      " Epoch 24/50\n",
      "15/15 [==============================] - 5s 326ms/step\n",
      "0.00042912018\n",
      "\n",
      " Epoch 25/50\n",
      "15/15 [==============================] - 5s 305ms/step\n",
      "0.00027317813\n",
      "\n",
      " Epoch 26/50\n",
      "15/15 [==============================] - 5s 306ms/step\n",
      "0.00035155017\n",
      "\n",
      " Epoch 27/50\n",
      "15/15 [==============================] - 5s 307ms/step\n",
      "0.00026306446\n",
      "\n",
      " Epoch 28/50\n",
      "15/15 [==============================] - 4s 290ms/step\n",
      "0.00048734588\n",
      "\n",
      " Epoch 29/50\n",
      "15/15 [==============================] - 4s 282ms/step\n",
      "0.0005536518\n",
      "\n",
      " Epoch 30/50\n",
      "15/15 [==============================] - 4s 276ms/step\n",
      "0.0007704845\n",
      "\n",
      " Epoch 31/50\n",
      "15/15 [==============================] - 5s 328ms/step\n",
      "0.0002692705\n",
      "\n",
      " Epoch 32/50\n",
      "15/15 [==============================] - 5s 307ms/step\n",
      "0.0003579894\n",
      "\n",
      " Epoch 33/50\n",
      "15/15 [==============================] - 5s 328ms/step\n",
      "9.945853e-05\n",
      "\n",
      " Epoch 34/50\n",
      "15/15 [==============================] - 5s 300ms/step\n",
      "0.00014773746\n",
      "\n",
      " Epoch 35/50\n",
      "15/15 [==============================] - 5s 305ms/step\n",
      "3.855746e-05\n",
      "\n",
      " Epoch 36/50\n",
      "15/15 [==============================] - 5s 304ms/step\n",
      "0.00029348527\n",
      "\n",
      " Epoch 37/50\n",
      "15/15 [==============================] - 5s 325ms/step\n",
      "7.349339e-05\n",
      "\n",
      " Epoch 38/50\n",
      "15/15 [==============================] - 5s 305ms/step\n",
      "8.269832e-05\n",
      "\n",
      " Epoch 39/50\n",
      "15/15 [==============================] - 5s 297ms/step\n",
      "9.378369e-05\n",
      "\n",
      " Epoch 40/50\n",
      "15/15 [==============================] - 4s 298ms/step\n",
      "0.0003387886\n",
      "\n",
      " Epoch 41/50\n",
      "15/15 [==============================] - 5s 320ms/step\n",
      "0.000118472366\n",
      "\n",
      " Epoch 42/50\n",
      "15/15 [==============================] - 4s 293ms/step\n",
      "0.00017933857\n",
      "\n",
      " Epoch 43/50\n",
      "15/15 [==============================] - 4s 292ms/step\n",
      "0.00010889417\n",
      "\n",
      " Epoch 44/50\n",
      "15/15 [==============================] - 5s 313ms/step\n",
      "7.773889e-05\n",
      "\n",
      " Epoch 45/50\n",
      "15/15 [==============================] - 5s 315ms/step\n",
      "2.8863538e-05\n",
      "\n",
      " Epoch 46/50\n",
      "15/15 [==============================] - 5s 298ms/step\n",
      "0.000103799255\n",
      "\n",
      " Epoch 47/50\n",
      "15/15 [==============================] - 5s 308ms/step\n",
      "0.000105288076\n",
      "\n",
      " Epoch 48/50\n",
      "15/15 [==============================] - 5s 313ms/step\n",
      "6.2963874e-05\n",
      "\n",
      " Epoch 49/50\n",
      "15/15 [==============================] - 5s 311ms/step\n",
      "0.00012804935\n",
      "\n",
      " Epoch 50/50\n",
      "15/15 [==============================] - 5s 315ms/step\n",
      "8.276851e-05\n"
     ]
    }
   ],
   "source": [
    "train(train_data, epochs=50)"
   ]
  },
  {
   "cell_type": "code",
   "execution_count": 63,
   "id": "1dee1f70",
   "metadata": {
    "executionInfo": {
     "elapsed": 49,
     "status": "ok",
     "timestamp": 1664204410074,
     "user": {
      "displayName": "Maxim Cucer",
      "userId": "01403634459015357744"
     },
     "user_tz": -180
    },
    "id": "1dee1f70"
   },
   "outputs": [],
   "source": [
    "from tensorflow.keras.metrics import Precision, Recall"
   ]
  },
  {
   "cell_type": "code",
   "execution_count": 25,
   "id": "342d6896",
   "metadata": {
    "executionInfo": {
     "elapsed": 37,
     "status": "ok",
     "timestamp": 1664204410075,
     "user": {
      "displayName": "Maxim Cucer",
      "userId": "01403634459015357744"
     },
     "user_tz": -180
    },
    "id": "342d6896"
   },
   "outputs": [],
   "source": [
    "test_inp, test_val, y_true = test_data.as_numpy_iterator().next()\n",
    "test_line = test_data.as_numpy_iterator().next()"
   ]
  },
  {
   "cell_type": "code",
   "execution_count": 26,
   "id": "D3PcATzhRIN2",
   "metadata": {
    "colab": {
     "base_uri": "https://localhost:8080/",
     "height": 286
    },
    "executionInfo": {
     "elapsed": 37,
     "status": "ok",
     "timestamp": 1664204410076,
     "user": {
      "displayName": "Maxim Cucer",
      "userId": "01403634459015357744"
     },
     "user_tz": -180
    },
    "id": "D3PcATzhRIN2",
    "outputId": "192ac969-d419-4511-bc25-03ccb3222d12"
   },
   "outputs": [
    {
     "data": {
      "text/plain": [
       "<matplotlib.image.AxesImage at 0x7f603c2db590>"
      ]
     },
     "execution_count": 26,
     "metadata": {},
     "output_type": "execute_result"
    },
    {
     "data": {
      "image/png": "[encoded data removed]",
      "text/plain": [
       "<Figure size 432x288 with 1 Axes>"
      ]
     },
     "metadata": {
      "needs_background": "light"
     },
     "output_type": "display_data"
    }
   ],
   "source": [
    "plt.imshow(test_inp[0])"
   ]
  },
  {
   "cell_type": "code",
   "execution_count": 27,
   "id": "VAH5knnNRWi8",
   "metadata": {
    "colab": {
     "base_uri": "https://localhost:8080/"
    },
    "executionInfo": {
     "elapsed": 28,
     "status": "ok",
     "timestamp": 1664204410076,
     "user": {
      "displayName": "Maxim Cucer",
      "userId": "01403634459015357744"
     },
     "user_tz": -180
    },
    "id": "VAH5knnNRWi8",
    "outputId": "f7bccaa8-7284-4ac8-af40-ef5225aa49c1"
   },
   "outputs": [
    {
     "data": {
      "text/plain": [
       "[1, 1, 1, 0, 0, 1, 0, 0, 1, 0, 0, 1, 0, 1, 0, 0]"
      ]
     },
     "execution_count": 27,
     "metadata": {},
     "output_type": "execute_result"
    }
   ],
   "source": [
    "preds = model.predict([test_inp, test_val])\n",
    "\n",
    "# classification by threshold \n",
    "[1 if prediction > .5 else 0 for prediction in preds]"
   ]
  },
  {
   "cell_type": "code",
   "execution_count": 28,
   "id": "gjqP9UDRSWB_",
   "metadata": {
    "colab": {
     "base_uri": "https://localhost:8080/"
    },
    "executionInfo": {
     "elapsed": 24,
     "status": "ok",
     "timestamp": 1664204410077,
     "user": {
      "displayName": "Maxim Cucer",
      "userId": "01403634459015357744"
     },
     "user_tz": -180
    },
    "id": "gjqP9UDRSWB_",
    "outputId": "2d19debb-857f-4ed8-d0fb-6a67bb54c795"
   },
   "outputs": [
    {
     "data": {
      "text/plain": [
       "array([1., 1., 1., 0., 0., 1., 0., 0., 1., 0., 0., 1., 0., 1., 0., 0.],\n",
       "      dtype=float32)"
      ]
     },
     "execution_count": 28,
     "metadata": {},
     "output_type": "execute_result"
    }
   ],
   "source": [
    "y_true"
   ]
  },
  {
   "cell_type": "code",
   "execution_count": 29,
   "id": "mdeZzdd5TsZd",
   "metadata": {
    "colab": {
     "base_uri": "https://localhost:8080/"
    },
    "executionInfo": {
     "elapsed": 21,
     "status": "ok",
     "timestamp": 1664204410077,
     "user": {
      "displayName": "Maxim Cucer",
      "userId": "01403634459015357744"
     },
     "user_tz": -180
    },
    "id": "mdeZzdd5TsZd",
    "outputId": "79f53090-1605-4b62-9cf2-98c61455b963"
   },
   "outputs": [
    {
     "data": {
      "text/plain": [
       "1.0"
      ]
     },
     "execution_count": 29,
     "metadata": {},
     "output_type": "execute_result"
    }
   ],
   "source": [
    "rec = Recall()\n",
    "rec.update_state(y_true, preds)\n",
    "rec.result().numpy()"
   ]
  },
  {
   "cell_type": "markdown",
   "id": "Tar0s_cGWp1t",
   "metadata": {
    "id": "Tar0s_cGWp1t"
   },
   "source": [
    "### Сохраняем веса модели"
   ]
  },
  {
   "cell_type": "code",
   "execution_count": null,
   "id": "75c8j1a31JDe",
   "metadata": {
    "id": "75c8j1a31JDe"
   },
   "outputs": [],
   "source": [
    "with open('out', 'w') as f:\n",
    "    f.write('/content/drive/MyDrive/Colab Notebooks/CV/6_Embeddings/faceid/defc')"
   ]
  },
  {
   "cell_type": "code",
   "execution_count": 30,
   "id": "Bgm1_tO8UZmY",
   "metadata": {
    "colab": {
     "base_uri": "https://localhost:8080/"
    },
    "executionInfo": {
     "elapsed": 861,
     "status": "ok",
     "timestamp": 1664204455041,
     "user": {
      "displayName": "Maxim Cucer",
      "userId": "01403634459015357744"
     },
     "user_tz": -180
    },
    "id": "Bgm1_tO8UZmY",
    "outputId": "13d32e93-2981-4d85-fde1-2f65f844d131"
   },
   "outputs": [
    {
     "name": "stderr",
     "output_type": "stream",
     "text": [
      "WARNING:tensorflow:Compiled the loaded model, but the compiled metrics have yet to be built. `model.compile_metrics` will be empty until you train or evaluate the model.\n"
     ]
    }
   ],
   "source": [
    "model.save(\"/content/drive/MyDrive/Colab Notebooks/CV/6_Embeddings/faceid/siamesemodel.h5\", )"
   ]
  },
  {
   "cell_type": "code",
   "execution_count": 8,
   "id": "ykNXq4dpW4cI",
   "metadata": {
    "colab": {
     "base_uri": "https://localhost:8080/"
    },
    "executionInfo": {
     "elapsed": 705,
     "status": "ok",
     "timestamp": 1664057296559,
     "user": {
      "displayName": "Maxim Cucer",
      "userId": "01403634459015357744"
     },
     "user_tz": -180
    },
    "id": "ykNXq4dpW4cI",
    "outputId": "f9a2c3ea-d533-4bb0-b7e9-74b9f5427b59"
   },
   "outputs": [
    {
     "name": "stderr",
     "output_type": "stream",
     "text": [
      "2022-12-14 19:09:34.680414: I tensorflow/core/platform/cpu_feature_guard.cc:193] This TensorFlow binary is optimized with oneAPI Deep Neural Network Library (oneDNN) to use the following CPU instructions in performance-critical operations:  AVX2 FMA\n",
      "To enable them in other operations, rebuild TensorFlow with the appropriate compiler flags.\n"
     ]
    },
    {
     "name": "stdout",
     "output_type": "stream",
     "text": [
      "WARNING:tensorflow:No training configuration found in the save file, so the model was *not* compiled. Compile it manually.\n"
     ]
    }
   ],
   "source": [
    "model = tf.keras.models.load_model('siamesemodel.h5',\\\n",
    "                                  custom_objects={'L1Norm':L1Norm,})"
   ]
  },
  {
   "cell_type": "markdown",
   "id": "f7abd3d8",
   "metadata": {},
   "source": [
    "Протестируем модель, посчитаем метрики на всех примерах которые у нас есть"
   ]
  },
  {
   "cell_type": "code",
   "execution_count": 53,
   "id": "923299bb",
   "metadata": {},
   "outputs": [],
   "source": [
    "test_data = data.take(round(len(data)))\n",
    "test_data = test_data.batch(342)\n",
    "test_data = test_data.prefetch(8)\n",
    "\n",
    "test_inp, test_val, y_true = test_data.as_numpy_iterator().next()"
   ]
  },
  {
   "cell_type": "code",
   "execution_count": 57,
   "id": "bd17cccb",
   "metadata": {},
   "outputs": [
    {
     "name": "stdout",
     "output_type": "stream",
     "text": [
      "11/11 [==============================] - 44s 4s/step\n"
     ]
    }
   ],
   "source": [
    "preds = model.predict([test_inp, test_val])\n",
    "\n",
    "# classification by threshold "
   ]
  },
  {
   "cell_type": "code",
   "execution_count": 66,
   "id": "fec9b8ad",
   "metadata": {},
   "outputs": [
    {
     "data": {
      "text/plain": [
       "0.9512195"
      ]
     },
     "execution_count": 66,
     "metadata": {},
     "output_type": "execute_result"
    }
   ],
   "source": [
    "rec = Recall()\n",
    "rec.update_state(y_true, preds)\n",
    "recall = rec.result().numpy()\n",
    "recall"
   ]
  },
  {
   "cell_type": "code",
   "execution_count": 67,
   "id": "c1b83695",
   "metadata": {},
   "outputs": [
    {
     "data": {
      "text/plain": [
       "0.9831933"
      ]
     },
     "execution_count": 67,
     "metadata": {},
     "output_type": "execute_result"
    }
   ],
   "source": [
    "pr = Precision()\n",
    "pr.update_state(y_true, preds)\n",
    "precision = pr.result().numpy()\n",
    "precision"
   ]
  },
  {
   "cell_type": "code",
   "execution_count": 69,
   "id": "ee16a0eb",
   "metadata": {},
   "outputs": [
    {
     "data": {
      "text/plain": [
       "0.9669421722789457"
      ]
     },
     "execution_count": 69,
     "metadata": {},
     "output_type": "execute_result"
    }
   ],
   "source": [
    "# f1\n",
    "2*precision*recall/(precision+recall)"
   ]
  },
  {
   "cell_type": "code",
   "execution_count": 70,
   "id": "9bae4cac",
   "metadata": {},
   "outputs": [
    {
     "data": {
      "text/plain": [
       "(342, 100, 100, 3)"
      ]
     },
     "execution_count": 70,
     "metadata": {},
     "output_type": "execute_result"
    }
   ],
   "source": [
    "test_inp.shape"
   ]
  },
  {
   "cell_type": "markdown",
   "id": "629f9154",
   "metadata": {},
   "source": [
    "### Надо добавить\n",
    "По хорошему для того чтоб качественно оценить модель надо бы пофоткаться на разных фонах в разной одежде и на разные камеры"
   ]
  },
  {
   "cell_type": "markdown",
   "id": "H3CFKvd3dj3A",
   "metadata": {
    "id": "H3CFKvd3dj3A"
   },
   "source": [
    "Запустим распознование в реально времени"
   ]
  },
  {
   "cell_type": "code",
   "execution_count": null,
   "id": "T98fP7YHXfYZ",
   "metadata": {
    "id": "T98fP7YHXfYZ"
   },
   "outputs": [],
   "source": [
    "def verify(frame, model, detection_threshold, verification_threshold):\n",
    "    results = []\n",
    "    for image in os.listdir(os.path.join(PATH, 'application_data', 'verification_images')):\n",
    "        input_img = preprocess(os.path.join(PATH, 'application_data', 'input_image', 'input_image', 'input_image.jpg'))\n",
    "        validation_img = preprocess(os.path.join(PATH, 'application_data', 'verification_images', image))\n",
    "\n",
    "        result = model.predict(list(np.expand_dims([input_img, validation_img], axis=1)))\n",
    "        results.append(result) \n",
    "\n",
    "    detection = np.sum(np.array(results) > detection_threshold)\n",
    "    verification = detection / len(os.listdir(os.path.join(PATH, 'application_data', 'verification_images'))) \n",
    "    verified = verification > verification_threshold\n",
    "\n",
    "    return results, verified"
   ]
  },
  {
   "cell_type": "code",
   "execution_count": null,
   "id": "nu178mRaiy7w",
   "metadata": {
    "id": "nu178mRaiy7w"
   },
   "outputs": [],
   "source": [
    "cap = cv2.VideoCapture(4)\n",
    "while cap.isOpened():\n",
    "    ret, frame = cap.read()\n",
    "    cv2.imshow('FaceId', frame)\n",
    "\n",
    "    if cv2.waitKey(10) & 0xFF == ord('q'):\n",
    "        break\n",
    "\n",
    "cap.release()\n",
    "cv2.destroyAllWindows()"
   ]
  },
  {
   "cell_type": "code",
   "execution_count": null,
   "id": "5zVfKuNIj7Jk",
   "metadata": {
    "id": "5zVfKuNIj7Jk"
   },
   "outputs": [],
   "source": []
  },
  {
   "cell_type": "code",
   "execution_count": null,
   "id": "Zza67z0hkPIN",
   "metadata": {
    "id": "Zza67z0hkPIN"
   },
   "outputs": [],
   "source": []
  }
 ],
 "metadata": {
  "accelerator": "GPU",
  "colab": {
   "provenance": []
  },
  "kernelspec": {
   "display_name": "Python 3 (ipykernel)",
   "language": "python",
   "name": "python3"
  },
  "language_info": {
   "codemirror_mode": {
    "name": "ipython",
    "version": 3
   },
   "file_extension": ".py",
   "mimetype": "text/x-python",
   "name": "python",
   "nbconvert_exporter": "python",
   "pygments_lexer": "ipython3",
   "version": "3.9.12"
  },
  "vscode": {
   "interpreter": {
    "hash": "aee8b7b246df8f9039afb4144a1f6fd8d2ca17a180786b69acc140d282b71a49"
   }
  }
 },
 "nbformat": 4,
 "nbformat_minor": 5
}
